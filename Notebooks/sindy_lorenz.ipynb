{
 "cells": [
  {
   "cell_type": "code",
   "execution_count": null,
   "metadata": {},
   "outputs": [],
   "source": []
  },
  {
   "cell_type": "code",
   "execution_count": null,
   "metadata": {},
   "outputs": [],
   "source": [
    "def calculate_regression(theta: np.ndarray, uprime: np.ndarray,\n",
    "                         threshold: float, max_iterations: int) -> np.ndarray:\n",
    "    \"\"\"Finds a xi matrix that fits theta * xi = uprime, using the sequential\n",
    "    thresholded least-squares algorithm, which is a regression algorithm that\n",
    "    promotes sparsity.\n",
    "\n",
    "    The authors of the SINDy paper designed this algorithm as an alternative\n",
    "    to LASSO, because they found LASSO to be algorithmically unstable, and\n",
    "    computationally expensive for very large data sets.\n",
    "    \"\"\"\n",
    "    # Solve theta * xi = uprime in the least-squares sense.\n",
    "    xi = np.linalg.lstsq(theta, uprime, rcond=None)[0]\n",
    "    n = xi.shape[1]\n",
    "\n",
    "    # Add sparsity.\n",
    "    for _ in range(max_iterations):\n",
    "        small_indices = np.abs(xi) < threshold\n",
    "        xi[small_indices] = 0\n",
    "        for j in range(n):\n",
    "            big_indices = np.logical_not(small_indices[:, j])\n",
    "            xi[big_indices, j] = np.linalg.lstsq(theta[:, big_indices],\n",
    "                                                 uprime[:, j],\n",
    "                                                 rcond=None)[0]\n",
    "\n",
    "    return xi"
   ]
  }
 ],
 "metadata": {
  "language_info": {
   "name": "python"
  },
  "orig_nbformat": 4
 },
 "nbformat": 4,
 "nbformat_minor": 2
}
