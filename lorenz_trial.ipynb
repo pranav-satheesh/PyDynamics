{
 "cells": [
  {
   "cell_type": "code",
   "execution_count": 1,
   "metadata": {},
   "outputs": [],
   "source": [
    "import numpy as np\n",
    "import matplotlib.pyplot as plt\n",
    "from scipy.integrate import solve_ivp\n",
    "from derivative import dxdt\n"
   ]
  },
  {
   "cell_type": "code",
   "execution_count": 2,
   "metadata": {},
   "outputs": [],
   "source": [
    "import sys\n",
    "sys.path.append('../PyDynamics/sindy_files/')\n",
    "import sindy"
   ]
  },
  {
   "cell_type": "code",
   "execution_count": 3,
   "metadata": {},
   "outputs": [],
   "source": [
    "SIGMA = 10\n",
    "RHO = 28\n",
    "BETA = 8/3"
   ]
  },
  {
   "cell_type": "code",
   "execution_count": 4,
   "metadata": {},
   "outputs": [],
   "source": [
    "def lorenz(_,u,sigma,rho,beta):\n",
    "\n",
    "    x = u[0]\n",
    "    y = u[1]\n",
    "    z = u[2]\n",
    "\n",
    "    dx_dt = sigma * (y-x)\n",
    "    dy_dt = x * (rho - z) - y\n",
    "    dz_dt = x * y - beta * z\n",
    "\n",
    "    return np.hstack((dx_dt,dy_dt,dz_dt))"
   ]
  },
  {
   "cell_type": "code",
   "execution_count": 5,
   "metadata": {},
   "outputs": [],
   "source": [
    "def gen_u(t):\n",
    "\n",
    "    u0 = np.array([0,8,27])\n",
    "    result = solve_ivp(fun=lorenz,t_span=(t[0],t[-1]),y0=u0,t_eval=t,args=(SIGMA,RHO,BETA))\n",
    "    u = result.y.T\n",
    "\n",
    "    return u"
   ]
  },
  {
   "cell_type": "code",
   "execution_count": 6,
   "metadata": {},
   "outputs": [],
   "source": [
    "def finite_diff(u,t):\n",
    "\n",
    "    uprime = dxdt(u.T,t,kind=\"finite_difference\",k=1).T\n",
    "    return uprime"
   ]
  },
  {
   "cell_type": "code",
   "execution_count": 89,
   "metadata": {},
   "outputs": [],
   "source": [
    "def generate_data(t0,tmax,dt):\n",
    "\n",
    "    t0 = 0.001\n",
    "    dt = 0.001\n",
    "    tmax = 100\n",
    "    n = int(tmax/dt)\n",
    "    t = np.linspace(start=t0,stop=tend,num=n)\n",
    "\n",
    "    u = gen_u(t)\n",
    "    uprime = finite_diff(u,t)\n",
    "\n",
    "    return (u,uprime)"
   ]
  },
  {
   "cell_type": "code",
   "execution_count": 97,
   "metadata": {},
   "outputs": [],
   "source": [
    "U,Uprime = generate_data(0.001,100,0.01)"
   ]
  },
  {
   "cell_type": "code",
   "execution_count": 98,
   "metadata": {},
   "outputs": [],
   "source": [
    "Xi = sindy.sparse_regress_find(U,Uprime,2,0.025,100)"
   ]
  },
  {
   "cell_type": "code",
   "execution_count": 99,
   "metadata": {},
   "outputs": [
    {
     "data": {
      "text/plain": [
       "array([[ 0.        ,  0.        ,  0.        ],\n",
       "       [-9.98243097, 27.61420352,  0.        ],\n",
       "       [ 9.98226218, -0.91963327,  0.        ],\n",
       "       [ 0.        ,  0.        , -2.65932574],\n",
       "       [ 0.        ,  0.        ,  0.        ],\n",
       "       [ 0.        ,  0.        ,  0.99631833],\n",
       "       [ 0.        , -0.98821761,  0.        ],\n",
       "       [ 0.        ,  0.        ,  0.        ],\n",
       "       [ 0.        ,  0.        ,  0.        ],\n",
       "       [ 0.        ,  0.        ,  0.        ]])"
      ]
     },
     "execution_count": 99,
     "metadata": {},
     "output_type": "execute_result"
    }
   ],
   "source": [
    "Xi"
   ]
  },
  {
   "cell_type": "code",
   "execution_count": 100,
   "metadata": {},
   "outputs": [
    {
     "data": {
      "text/plain": [
       "(10, 3)"
      ]
     },
     "execution_count": 100,
     "metadata": {},
     "output_type": "execute_result"
    }
   ],
   "source": [
    "np.shape(Xi)"
   ]
  },
  {
   "cell_type": "code",
   "execution_count": 101,
   "metadata": {},
   "outputs": [],
   "source": [
    "Xi_actual = np.zeros(shape=(10,3))"
   ]
  },
  {
   "cell_type": "code",
   "execution_count": 102,
   "metadata": {},
   "outputs": [],
   "source": [
    "Xi_actual[1,0] = -10\n",
    "Xi_actual[2,0] = 10\n",
    "Xi_actual[1,1] = 28\n",
    "Xi_actual[2,1] = -1\n",
    "Xi_actual[6,1] = -1\n",
    "Xi_actual[3,2] = -8/3\n",
    "Xi_actual[5,2] = 1"
   ]
  },
  {
   "cell_type": "code",
   "execution_count": 103,
   "metadata": {},
   "outputs": [
    {
     "data": {
      "text/plain": [
       "0.15612730553462023"
      ]
     },
     "execution_count": 103,
     "metadata": {},
     "output_type": "execute_result"
    }
   ],
   "source": [
    "np.sum(np.abs(Xi_actual - Xi)**2)"
   ]
  },
  {
   "cell_type": "code",
   "execution_count": null,
   "metadata": {},
   "outputs": [],
   "source": []
  },
  {
   "cell_type": "code",
   "execution_count": 50,
   "metadata": {},
   "outputs": [],
   "source": [
    "coeffs = Xi.T[np.nonzero(Xi.T)]"
   ]
  },
  {
   "cell_type": "code",
   "execution_count": 49,
   "metadata": {},
   "outputs": [
    {
     "data": {
      "text/plain": [
       "array([-10.00446074,  10.00428337,  27.80472285,  -0.95667502,\n",
       "        -0.99356534,  -2.66695784,   0.99917853])"
      ]
     },
     "execution_count": 49,
     "metadata": {},
     "output_type": "execute_result"
    }
   ],
   "source": [
    "coeffs"
   ]
  },
  {
   "cell_type": "code",
   "execution_count": 46,
   "metadata": {},
   "outputs": [
    {
     "ename": "SyntaxError",
     "evalue": "invalid syntax (3838219597.py, line 7)",
     "output_type": "error",
     "traceback": [
      "\u001b[0;36m  Cell \u001b[0;32mIn[46], line 7\u001b[0;36m\u001b[0m\n\u001b[0;31m    er =\u001b[0m\n\u001b[0m         ^\u001b[0m\n\u001b[0;31mSyntaxError\u001b[0m\u001b[0;31m:\u001b[0m invalid syntax\n"
     ]
    }
   ],
   "source": [
    "def error(Xi):\n",
    "\n",
    "    er = 0\n",
    "    er = er + np.abs(-SIGMA - Xi[0][1])**2\n",
    "    er = er + np.abs(SIGMA - Xi[0][2])**2\n",
    "\n",
    "    er = "
   ]
  },
  {
   "cell_type": "code",
   "execution_count": 48,
   "metadata": {},
   "outputs": [],
   "source": [
    "coeffs = Xi.T[np.nonzero(Xi.T)]"
   ]
  },
  {
   "cell_type": "code",
   "execution_count": null,
   "metadata": {},
   "outputs": [],
   "source": [
    "actual_coef = np.array([-SIGMA,SIGMA,RHO,-1,-1,])"
   ]
  }
 ],
 "metadata": {
  "kernelspec": {
   "display_name": "ML",
   "language": "python",
   "name": "python3"
  },
  "language_info": {
   "codemirror_mode": {
    "name": "ipython",
    "version": 3
   },
   "file_extension": ".py",
   "mimetype": "text/x-python",
   "name": "python",
   "nbconvert_exporter": "python",
   "pygments_lexer": "ipython3",
   "version": "3.11.4"
  }
 },
 "nbformat": 4,
 "nbformat_minor": 2
}
